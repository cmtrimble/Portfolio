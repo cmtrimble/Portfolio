{
 "cells": [
  {
   "cell_type": "code",
   "id": "initial_id",
   "metadata": {
    "collapsed": true,
    "ExecuteTime": {
     "end_time": "2024-11-12T18:54:56.306552Z",
     "start_time": "2024-11-12T18:51:32.552342Z"
    }
   },
   "source": [
    "# Initialize an empty list to store assignment scores\n",
    "assignment_scores = []\n",
    "\n",
    "# Dialog box appears for each instance, and follows the loop until closed out.\n",
    "while True:\n",
    "    assignment_type = input(\"Enter assignment type (or 'calculate' to see the result): \")\n",
    "    if assignment_type.lower() == \"calculate\":\n",
    "        break  # Exit the loop\n",
    "\n",
    "    try:\n",
    "        points_possible = float(input(f\"Enter points possible for {assignment_type}: \"))\n",
    "        num_assignments = int(input(f\"Enter number of {assignment_type}: \"))\n",
    "        scores = [float(input(f\"Enter score {i + 1} for {assignment_type}: \")) for i in range(num_assignments)]\n",
    "        assignment_scores.append((assignment_type, points_possible, num_assignments, scores))\n",
    "    except ValueError:\n",
    "        print(\"Invalid input. Please enter numeric values.\")\n",
    "\n",
    "# Calculate the unweighted total\n",
    "total_points_earned = sum(sum(scores) for _, _, _, scores in assignment_scores)\n",
    "\n",
    "# Calculate the total points possible\n",
    "total_points_possible = sum(points_possible * num_assignments for _, points_possible, num_assignments, _ in assignment_scores)\n",
    "\n",
    "# Calculate the final percentage\n",
    "final_percentage = (total_points_earned / total_points_possible) * 100\n",
    "\n",
    "# Determine the final grade (you can customize the grade boundaries)\n",
    "if final_percentage >= 90:\n",
    "    final_grade = 'A'\n",
    "elif final_percentage >= 80:\n",
    "    final_grade = 'B'\n",
    "elif final_percentage >= 70:\n",
    "    final_grade = 'C'\n",
    "elif final_percentage >= 60:\n",
    "    final_grade = 'D'\n",
    "else:\n",
    "    final_grade = 'F'\n",
    "\n",
    "# Display individual assignment points\n",
    "for assignment_type, _, _, scores in assignment_scores:\n",
    "    print(f\"Your total {assignment_type.lower()} points equals: {sum(scores):.2f}\")\n",
    "\n",
    "print(f\"Total points earned: {total_points_earned:.2f}\")\n",
    "print(f\"Total points possible: {total_points_possible:.2f}\")\n",
    "print(f\"Final Percentage: {final_percentage:.2f}%\")\n",
    "print(f\"Final Grade: {final_grade}\")\n"
   ],
   "outputs": [
    {
     "name": "stdout",
     "output_type": "stream",
     "text": [
      "Invalid input. Please enter numeric values.\n",
      "Invalid input. Please enter numeric values.\n",
      "Your total db1 points equals: 23.10\n",
      "Your total db points equals: 214.65\n",
      "Total points earned: 237.75\n",
      "Total points possible: 275.00\n",
      "Final Percentage: 86.45%\n",
      "Final Grade: B\n"
     ]
    }
   ],
   "execution_count": 1
  },
  {
   "metadata": {
    "ExecuteTime": {
     "end_time": "2024-10-23T23:19:13.909996Z",
     "start_time": "2024-10-23T23:19:13.907992Z"
    }
   },
   "cell_type": "code",
   "source": "",
   "id": "e0046ff803bbab8d",
   "outputs": [],
   "execution_count": 1
  },
  {
   "metadata": {},
   "cell_type": "code",
   "outputs": [],
   "execution_count": null,
   "source": "",
   "id": "ad7099bf51ff0520"
  }
 ],
 "metadata": {
  "kernelspec": {
   "display_name": "Python 3",
   "language": "python",
   "name": "python3"
  },
  "language_info": {
   "codemirror_mode": {
    "name": "ipython",
    "version": 2
   },
   "file_extension": ".py",
   "mimetype": "text/x-python",
   "name": "python",
   "nbconvert_exporter": "python",
   "pygments_lexer": "ipython2",
   "version": "2.7.6"
  }
 },
 "nbformat": 4,
 "nbformat_minor": 5
}
